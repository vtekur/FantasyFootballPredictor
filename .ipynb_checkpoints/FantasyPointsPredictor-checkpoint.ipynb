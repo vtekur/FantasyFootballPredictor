{
 "cells": [
  {
   "cell_type": "code",
   "execution_count": 109,
   "metadata": {},
   "outputs": [],
   "source": [
    "import sys\n",
    "import copy\n",
    "import matplotlib.pyplot as plt\n",
    "import pandas as pd\n",
    "import tensorflow as tf\n",
    "import seaborn as sns\n",
    "from tensorflow import keras\n",
    "from tensorflow.keras import layers\n",
    "from sklearn.model_selection import train_test_split"
   ]
  },
  {
   "cell_type": "code",
   "execution_count": 266,
   "metadata": {},
   "outputs": [],
   "source": [
    "def formatPlayerName(name):\n",
    "    try:\n",
    "        starIndex = name.index(\"*\")\n",
    "    except ValueError:\n",
    "        starIndex = sys.maxsize\n",
    "    try:\n",
    "        slashIndex = name.index(\"\\\\\")\n",
    "    except ValueError:\n",
    "        slashIndex = sys.maxsize\n",
    "    return name[:min(starIndex, slashIndex)]\n",
    "def preprocess(data, position):\n",
    "    data.columns = data.iloc[0]\n",
    "    if(position == 'WR' or position == 'TE'):\n",
    "        categoriesToDrop = [\"Passing\", \"Rushing\", \"Scoring\", \"Fumbles\"]\n",
    "        columnsToDrop = [\"Rk\", \"GS\", \"FantPos\", \"Y/R\", \"PPR\", \"DKPt\", \"VBD\", \"FDPt\", \"PosRank\", \"OvRank\", \"Tm\"]\n",
    "    elif(position == 'QB'): \n",
    "        categoriesToDrop = [\"Receiving\", \"Rushing\", \"Scoring\", \"Fumbles\"]\n",
    "        columnsToDrop = [\"Rk\", \"GS\", \"FantPos\", \"PPR\", \"DKPt\", \"VBD\", \"FDPt\", \"PosRank\", \"OvRank\", \"Tm\"]\n",
    "    elif(position == 'RB'): \n",
    "        categoriesToDrop = [\"Passing\", \"Scoring\", \"Fumbles\"]\n",
    "        columnsToDrop = [\"Rk\", \"GS\", \"FantPos\", \"Y/R\", \"Y/A\", \"PPR\", \"DKPt\", \"VBD\", \"FDPt\", \"PosRank\", \"OvRank\", \"Tm\"]\n",
    "    else:\n",
    "        raise Exception(\"Incorrect position passed in as an argument to preprocessRB Function\")\n",
    "    data = data.drop(columns = categoriesToDrop)\n",
    "    data = data.drop([0])\n",
    "    data.columns = data.iloc[0]\n",
    "    data = data.drop([1])\n",
    "    data = data[data.FantPos == position]\n",
    "    data = data.drop(columns = columnsToDrop)\n",
    "    data = data[data.G >= 12]\n",
    "    data = data.dropna()\n",
    "    data[\"Player\"] = data[\"Player\"].map(formatPlayerName)\n",
    "    data = data.set_index(\"Player\")\n",
    "    if(position == 'RB'):\n",
    "        data.columns = ['Age', 'G', 'Att', 'Rush Yds', 'Rush TD', 'Tgt', 'Rec', 'Rec Yds', 'Rec TD',\n",
    "           'FantPt']\n",
    "    return data\n",
    "def createDataset(years, position):\n",
    "    yearToOriginalData = {}\n",
    "    finalData = pd.DataFrame()\n",
    "    for index, year in enumerate(years):\n",
    "        if(position == 'WR' or position == 'TE' or position == 'QB' or position == 'RB'):\n",
    "            data = preprocess(pd.read_excel(str(year) + \"NFLData.xlsx\"), position)\n",
    "        else:\n",
    "            raise Exception(\"Incorrect position passed in as an argument to createDataset Function\")\n",
    "        yearToOriginalData[year] = copy.deepcopy(data)\n",
    "        if(index != 0):\n",
    "            for name in data.index: \n",
    "                if name in yearToOriginalData[year + 1][\"FantPt\"]:\n",
    "                    data[\"FantPt\"][name] = yearToOriginalData[year + 1][\"FantPt\"][name]\n",
    "                else:\n",
    "                    data = data.drop(name)\n",
    "            data.index = data.index.map(lambda name: name + str(year))\n",
    "            if(position == 'TE'): \n",
    "                data = data.head(32) #Limiting the number of tight ends in the dataset (to avg 1 per team) in order to eliminate most blocking tight ends,\n",
    "                #who are not relevant to fantasy and play a different role than pass catching tight ends, who are relevant to fantasy\n",
    "            if(finalData.empty):\n",
    "                finalData = data\n",
    "            else:\n",
    "                finalData = finalData.append(data)\n",
    "    finalData = finalData.astype(int)\n",
    "    yearToOriginalData[2018].pop(\"FantPt\")\n",
    "    return (finalData, yearToOriginalData[2018])\n",
    "def normalizeData(data, train_data_stats):\n",
    "    return (data - train_data_stats[\"mean\"])/train_data_stats[\"std\"]\n",
    "def generate_model(shape):\n",
    "    model = keras.Sequential([\n",
    "    layers.Dense(256, activation=tf.nn.relu, input_shape=shape),\n",
    "    layers.Dense(256, activation=tf.nn.relu),\n",
    "    layers.Dense(256, activation=tf.nn.relu),\n",
    "    layers.Dense(256, activation=tf.nn.relu),\n",
    "    layers.Dense(1, activation='linear')\n",
    "  ])\n",
    "    return model\n",
    "def save_to_excel(players, predictions, filename):\n",
    "    playerToPrediction = pd.DataFrame()\n",
    "    playerToPrediction['Player'] = players\n",
    "    playerToPrediction['Projected Fantasy Points'] = predictions\n",
    "    playerToPrediction = playerToPrediction.sort_values(by='Projected Fantasy Points', ascending = False)\n",
    "    playerToPrediction = playerToPrediction.set_index(\"Player\")\n",
    "    playerToPrediction.to_excel(filename)\n",
    "def train_and_predict(final_data, final_labels, current_year_data, filename, position):\n",
    "    train_data, test_data, train_labels, test_labels = train_test_split(final_data, final_labels, test_size = 0.2)\n",
    "    normalized_train_data = normalizeData(train_data, train_data.astype(int).describe().transpose())\n",
    "    normalized_test_data = normalizeData(test_data, train_data.astype(int).describe().transpose())\n",
    "    model = generate_model([len(train_data.keys())])\n",
    "    model.compile(loss='mean_squared_error',\n",
    "            optimizer= 'adam',\n",
    "            metrics=['mean_absolute_error', 'mean_squared_error'])\n",
    "    early_stop = keras.callbacks.EarlyStopping(monitor='val_loss', patience=10)\n",
    "    model.fit(normalized_train_data, train_labels, epochs=1000,\n",
    "                    validation_split = 0.2, verbose=0, batch_size = 32, callbacks=[early_stop])\n",
    "    pd.DataFrame(history.history)\n",
    "    loss, mae, mse = model.evaluate(normalized_test_data, test_labels, verbose=0)\n",
    "    print(f'{position} Test Data Mean Absolute Error: {mae} Fantasy Points')\n",
    "    currentSeasonPredictions = model.predict(normalizeData(current_year_data, train_data.astype(int).describe().transpose())).flatten()\n",
    "    save_to_excel(current_year_data.index, currentSeasonPredictions, filename)"
   ]
  },
  {
   "cell_type": "markdown",
   "metadata": {},
   "source": [
    "### Generate Datasets"
   ]
  },
  {
   "cell_type": "code",
   "execution_count": 267,
   "metadata": {},
   "outputs": [],
   "source": [
    "final_data_qb, current_year_data_qb = createDataset(reversed(range(2008,2019)), 'QB')\n",
    "final_data_rb, current_year_data_rb = createDataset(reversed(range(2013,2019)), 'RB')\n",
    "final_data_wr, current_year_data_wr = createDataset(reversed(range(2013,2019)), 'WR')\n",
    "final_data_te, current_year_data_te = createDataset(reversed(range(2008,2019)), 'TE')\n",
    "final_labels_qb = final_data_qb.pop(\"FantPt\")\n",
    "final_labels_rb = final_data_rb.pop(\"FantPt\")\n",
    "final_labels_wr = final_data_wr.pop(\"FantPt\")\n",
    "final_labels_te = final_data_te.pop(\"FantPt\")"
   ]
  },
  {
   "cell_type": "markdown",
   "metadata": {},
   "source": [
    "### Train models and generate/save predictions"
   ]
  },
  {
   "cell_type": "code",
   "execution_count": 269,
   "metadata": {},
   "outputs": [
    {
     "name": "stdout",
     "output_type": "stream",
     "text": [
      "QB Test Data Mean Absolute Error: 58.55894470214844 Fantasy Points\n",
      "RB Test Data Mean Absolute Error: 32.076663970947266 Fantasy Points\n",
      "WR Test Data Mean Absolute Error: 33.7569694519043 Fantasy Points\n",
      "TE Test Data Mean Absolute Error: 27.81584930419922 Fantasy Points\n"
     ]
    }
   ],
   "source": [
    "train_and_predict(final_data_qb, final_labels_qb, current_year_data_qb, \"VTQBFantasyPredictions2019.xlsx\", \"QB\")\n",
    "train_and_predict(final_data_rb, final_labels_rb, current_year_data_rb, \"VTRBFantasyPredictions2019.xlsx\", \"RB\")\n",
    "train_and_predict(final_data_wr, final_labels_wr, current_year_data_wr, \"VTWRFantasyPredictions2019.xlsx\", \"WR\")\n",
    "train_and_predict(final_data_te, final_labels_te, current_year_data_te, \"VTTEFantasyPredictions2019.xlsx\", \"TE\")"
   ]
  }
 ],
 "metadata": {
  "kernelspec": {
   "display_name": "testenv",
   "language": "python",
   "name": "testenv"
  },
  "language_info": {
   "codemirror_mode": {
    "name": "ipython",
    "version": 3
   },
   "file_extension": ".py",
   "mimetype": "text/x-python",
   "name": "python",
   "nbconvert_exporter": "python",
   "pygments_lexer": "ipython3",
   "version": "3.7.4"
  }
 },
 "nbformat": 4,
 "nbformat_minor": 2
}
