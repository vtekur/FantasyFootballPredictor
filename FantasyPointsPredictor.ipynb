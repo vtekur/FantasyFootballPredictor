{
 "cells": [
  {
   "cell_type": "code",
   "execution_count": 1,
   "metadata": {},
   "outputs": [],
   "source": [
    "import sys\n",
    "import copy\n",
    "import matplotlib.pyplot as plt\n",
    "import pandas as pd\n",
    "import tensorflow as tf\n",
    "from tensorflow import keras\n",
    "from tensorflow.keras import layers"
   ]
  },
  {
   "cell_type": "code",
   "execution_count": 2,
   "metadata": {},
   "outputs": [],
   "source": [
    "years = reversed(range(2008,2019))"
   ]
  },
  {
   "cell_type": "code",
   "execution_count": 3,
   "metadata": {},
   "outputs": [],
   "source": [
    "def formatPlayerName(name):\n",
    "    try:\n",
    "        starIndex = name.index(\"*\")\n",
    "    except ValueError:\n",
    "        starIndex = sys.maxsize\n",
    "    try:\n",
    "        slashIndex = name.index(\"\\\\\")\n",
    "    except ValueError:\n",
    "        slashIndex = sys.maxsize\n",
    "    return name[:min(starIndex, slashIndex)]\n",
    "def preprocess(years):\n",
    "    yearToOriginalData = {}\n",
    "    finalData = pd.DataFrame()\n",
    "    for index, year in enumerate(years): \n",
    "        data = pd.read_excel(str(year) + \"NFLData.xlsx\")\n",
    "        data.columns = data.iloc[0]\n",
    "        data = data.drop(columns = [\"Passing\", \"Rushing\", \"Scoring\", \"Fumbles\"])\n",
    "        data = data.drop([0])\n",
    "        data.columns = data.iloc[0]\n",
    "        data = data.drop([1])\n",
    "        data = data.drop(columns = [\"Rk\", \"GS\", \"PPR\", \"DKPt\", \"VBD\", \"FDPt\", \"PosRank\", \"OvRank\", \"Tm\"])\n",
    "        data = data[data.FantPos == \"WR\"]\n",
    "        data = data[data.G >= 12]\n",
    "        data = data.dropna()\n",
    "        data[\"Player\"] = data[\"Player\"].map(formatPlayerName)\n",
    "        data = data.set_index(\"Player\")\n",
    "        yearToOriginalData[year] = copy.deepcopy(data)\n",
    "        if(index != 0):\n",
    "            for name in data.index: \n",
    "                if name in yearToOriginalData[year + 1][\"FantPt\"]:\n",
    "                    data[\"FantPt\"][name] = yearToOriginalData[year + 1][\"FantPt\"][name]\n",
    "                else:\n",
    "                    data = data.drop(name)\n",
    "            data.index = data.index.map(lambda name: name + str(year))\n",
    "            if(finalData.empty):\n",
    "                finalData = data\n",
    "            else:\n",
    "                finalData = finalData.append(data)\n",
    "    return finalData"
   ]
  },
  {
   "cell_type": "code",
   "execution_count": 4,
   "metadata": {},
   "outputs": [
    {
     "name": "stdout",
     "output_type": "stream",
     "text": [
      "1                   FantPos Age   G  Tgt  Rec   Yds    Y/R  TD FantPt\n",
      "Player                                                               \n",
      "DeAndre Hopkins2017      WR  25  15  174   96  1378  14.35  13    219\n",
      "Antonio Brown2017        WR  29  14  163  101  1533  15.18   9    220\n",
      "Keenan Allen2017         WR  25  16  159  102  1393  13.66   6    163\n",
      "Tyreek Hill2017          WR  23  15  105   75  1183  15.77   7    247\n",
      "Julio Jones2017          WR  28  16  148   88  1444  16.41   3    213\n",
      "...                     ...  ..  ..  ...  ...   ...    ...  ..    ...\n",
      "Brad Smith2008           WR  25  15   20   12    64   5.33   0     34\n",
      "Sam Aiken2008            WR  28  14   11    8   101  12.63   0     45\n",
      "Jacoby Jones2008         WR  24  16    5    3    81     27   0     82\n",
      "Legedu Naanee2008        WR  25  16   11    8    64      8   0     38\n",
      "Pierre Garcon2008        WR  22  14    4    4    23   5.75   0    102\n",
      "\n",
      "[773 rows x 9 columns]\n"
     ]
    }
   ],
   "source": [
    "finalData = preprocess(years)\n",
    "print(finalData)"
   ]
  },
  {
   "cell_type": "code",
   "execution_count": null,
   "metadata": {},
   "outputs": [],
   "source": []
  },
  {
   "cell_type": "code",
   "execution_count": null,
   "metadata": {},
   "outputs": [],
   "source": []
  }
 ],
 "metadata": {
  "kernelspec": {
   "display_name": "testenv",
   "language": "python",
   "name": "testenv"
  },
  "language_info": {
   "codemirror_mode": {
    "name": "ipython",
    "version": 3
   },
   "file_extension": ".py",
   "mimetype": "text/x-python",
   "name": "python",
   "nbconvert_exporter": "python",
   "pygments_lexer": "ipython3",
   "version": "3.7.4"
  }
 },
 "nbformat": 4,
 "nbformat_minor": 2
}
